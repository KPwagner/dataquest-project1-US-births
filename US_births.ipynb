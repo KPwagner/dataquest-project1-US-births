{
 "cells": [
  {
   "cell_type": "code",
   "execution_count": 1,
   "metadata": {},
   "outputs": [
    {
     "name": "stdout",
     "output_type": "stream",
     "text": [
      "['year,month,date_of_month,day_of_week,births', '1994,1,1,6,8096', '1994,1,2,7,7772', '1994,1,3,1,10142', '1994,1,4,2,11248', '1994,1,5,3,11053', '1994,1,6,4,11406', '1994,1,7,5,11251', '1994,1,8,6,8653', '1994,1,9,7,7910']\n"
     ]
    }
   ],
   "source": [
    "f = open(\"US_births_1994-2003_CDC_NCHS.csv\")\n",
    "births_str = f.read()\n",
    "births_data = births_str.split('\\n')\n",
    "print(births_data[:10])\n"
   ]
  },
  {
   "cell_type": "code",
   "execution_count": 2,
   "metadata": {},
   "outputs": [
    {
     "name": "stdout",
     "output_type": "stream",
     "text": [
      "3652\n",
      "[[2003, 12, 22, 1, 12967], [2003, 12, 23, 2, 12598], [2003, 12, 24, 3, 9096], [2003, 12, 25, 4, 6628], [2003, 12, 26, 5, 10218], [2003, 12, 27, 6, 8646], [2003, 12, 28, 7, 7645], [2003, 12, 29, 1, 12823], [2003, 12, 30, 2, 14438], [2003, 12, 31, 3, 12374]]\n"
     ]
    }
   ],
   "source": [
    "def read_csv(f):\n",
    "    \"\"\"Converts a csv file to a headerless list of lists with int elements.\"\"\"\n",
    "    file = open(f,\"r\")\n",
    "    content = file.read()\n",
    "    split_content = content.split('\\n')\n",
    "    headerless_split_content = split_content[1:]\n",
    "    string_list = headerless_split_content\n",
    "    final_list = []\n",
    "    \n",
    "    for row in string_list:\n",
    "        int_fields = []\n",
    "        string_fields = row.split(',')\n",
    "        for e in string_fields:\n",
    "            int_fields.append(int(e))\n",
    "        final_list.append(int_fields)\n",
    "\n",
    "    return final_list\n",
    "\n",
    "cdc_list = read_csv(\"US_births_1994-2003_CDC_NCHS.csv\")\n",
    "print(len(cdc_list))\n",
    "print(cdc_list[len(cdc_list)-10:])"
   ]
  },
  {
   "cell_type": "code",
   "execution_count": 3,
   "metadata": {},
   "outputs": [
    {
     "name": "stdout",
     "output_type": "stream",
     "text": [
      "5479\n",
      "[[2000, 1, 1, 6, 9083], [2000, 1, 2, 7, 8006], [2000, 1, 3, 1, 11363], [2000, 1, 4, 2, 13032], [2000, 1, 5, 3, 12558], [2000, 1, 6, 4, 12466], [2000, 1, 7, 5, 12516], [2000, 1, 8, 6, 8934], [2000, 1, 9, 7, 7949], [2000, 1, 10, 1, 11668]]\n"
     ]
    }
   ],
   "source": [
    "ssa_list = read_csv(\"US_births_2000-2014_SSA.csv\")\n",
    "print(len(ssa_list))\n",
    "print(ssa_list[:10])"
   ]
  },
  {
   "cell_type": "code",
   "execution_count": 4,
   "metadata": {},
   "outputs": [],
   "source": [
    "def combine_lists(l_one, l_two):\n",
    "    combined_list = []\n",
    "    for row in l_one:        \n",
    "        combined_list.append(row)\n",
    "    for row in l_two:\n",
    "        row_year = row[0]\n",
    "        if row_year > 2003:\n",
    "            combined_list.append(row)\n",
    "    return combined_list"
   ]
  },
  {
   "cell_type": "code",
   "execution_count": 5,
   "metadata": {},
   "outputs": [
    {
     "name": "stdout",
     "output_type": "stream",
     "text": [
      "7670\n"
     ]
    }
   ],
   "source": [
    "cdc_ssa_list = combine_lists(cdc_list, ssa_list)\n",
    "print(len(cdc_ssa_list))"
   ]
  },
  {
   "cell_type": "code",
   "execution_count": 6,
   "metadata": {},
   "outputs": [],
   "source": [
    "def date_births(data, year, month, date_of_month):\n",
    "    \"\"\"Returns a list with the births (int) for given date in a dataset. Multiple elements in the list imply duplicate dates in the data.\n",
    "    \n",
    "    First argument, data, must be a list of lists (all int) with the following format:\n",
    "    index 0: year\n",
    "    index 1: month\n",
    "    index 2: date_of_month\n",
    "    index 3: day_of_week\n",
    "    index 4: births\n",
    "    \n",
    "    3 required arguments constrain the output: year, month, and date_of_month.\n",
    "    \"\"\"\n",
    "    births_list = []\n",
    "    for row in data:\n",
    "        row_year = row[0]\n",
    "        row_month = row[1]\n",
    "        row_date_of_month = row[2]\n",
    "        if row_year == year:\n",
    "            if row_month == month:\n",
    "                if row_date_of_month == date_of_month:\n",
    "                    births_list.append(row[4])\n",
    "    return births_list"
   ]
  },
  {
   "cell_type": "code",
   "execution_count": 7,
   "metadata": {},
   "outputs": [
    {
     "name": "stdout",
     "output_type": "stream",
     "text": [
      "Help on function date_births in module __main__:\n",
      "\n",
      "date_births(data, year, month, date_of_month)\n",
      "    Returns a list with the births (int) for given date in a dataset. Multiple elements in the list imply duplicate dates in the data.\n",
      "    \n",
      "    First argument, data, must be a list of lists (all int) with the following format:\n",
      "    index 0: year\n",
      "    index 1: month\n",
      "    index 2: date_of_month\n",
      "    index 3: day_of_week\n",
      "    index 4: births\n",
      "    \n",
      "    3 required arguments constrain the output: year, month, and date_of_month.\n",
      "\n"
     ]
    }
   ],
   "source": [
    "help(date_births)"
   ]
  },
  {
   "cell_type": "code",
   "execution_count": 8,
   "metadata": {},
   "outputs": [
    {
     "data": {
      "text/plain": [
       "[8843]"
      ]
     },
     "execution_count": 8,
     "metadata": {},
     "output_type": "execute_result"
    }
   ],
   "source": [
    "date_births(cdc_list, 2000, 1, 1)"
   ]
  },
  {
   "cell_type": "code",
   "execution_count": 9,
   "metadata": {},
   "outputs": [
    {
     "data": {
      "text/plain": [
       "[9083]"
      ]
     },
     "execution_count": 9,
     "metadata": {},
     "output_type": "execute_result"
    }
   ],
   "source": [
    "date_births(ssa_list, 2000, 1, 1)"
   ]
  },
  {
   "cell_type": "code",
   "execution_count": 10,
   "metadata": {},
   "outputs": [
    {
     "data": {
      "text/plain": [
       "[8843]"
      ]
     },
     "execution_count": 10,
     "metadata": {},
     "output_type": "execute_result"
    }
   ],
   "source": [
    "date_births(cdc_ssa_list, 2000, 1, 1)"
   ]
  },
  {
   "cell_type": "code",
   "execution_count": 11,
   "metadata": {},
   "outputs": [],
   "source": [
    "def month_births(births_list):\n",
    "    \"\"\"Returns a dict with month (int) keys and births values.\n",
    "    Input must be a list of lists with month at index 1 and births at index 4.\n",
    "    \"\"\"\n",
    "    births_per_month = {}\n",
    "    for row in births_list:\n",
    "        month = row[1]\n",
    "        births = row[4]\n",
    "        if month in births_per_month:\n",
    "            births_per_month[month] += births\n",
    "        else:\n",
    "            births_per_month[month] = births\n",
    "    \n",
    "    return births_per_month\n",
    "\n",
    "cdc_month_births = month_births(cdc_list)"
   ]
  },
  {
   "cell_type": "code",
   "execution_count": 12,
   "metadata": {},
   "outputs": [
    {
     "data": {
      "text/plain": [
       "{1: 3232517,\n",
       " 2: 3018140,\n",
       " 3: 3322069,\n",
       " 4: 3185314,\n",
       " 5: 3350907,\n",
       " 6: 3296530,\n",
       " 7: 3498783,\n",
       " 8: 3525858,\n",
       " 9: 3439698,\n",
       " 10: 3378814,\n",
       " 11: 3171647,\n",
       " 12: 3301860}"
      ]
     },
     "execution_count": 12,
     "metadata": {},
     "output_type": "execute_result"
    }
   ],
   "source": [
    "cdc_month_births"
   ]
  },
  {
   "cell_type": "code",
   "execution_count": 13,
   "metadata": {},
   "outputs": [],
   "source": [
    "def dow_births(births_list):\n",
    "    \"\"\"Returns a dict with day of week (int) keys and births values.\n",
    "    Input must be a list of lists with day of week at index 3 and births at index 4.\n",
    "    \"\"\"\n",
    "    births_per_day = {}\n",
    "    for row in births_list:\n",
    "        day = row[3]\n",
    "        births = row[4]\n",
    "        if day in births_per_day:\n",
    "            births_per_day[day] += births\n",
    "        else:\n",
    "            births_per_day[day] = births\n",
    "    return births_per_day\n",
    "\n",
    "cdc_day_births = dow_births(cdc_list)"
   ]
  },
  {
   "cell_type": "code",
   "execution_count": 14,
   "metadata": {},
   "outputs": [
    {
     "data": {
      "text/plain": [
       "{6: 4562111,\n",
       " 7: 4079723,\n",
       " 1: 5789166,\n",
       " 2: 6446196,\n",
       " 3: 6322855,\n",
       " 4: 6288429,\n",
       " 5: 6233657}"
      ]
     },
     "execution_count": 14,
     "metadata": {},
     "output_type": "execute_result"
    }
   ],
   "source": [
    "cdc_day_births"
   ]
  },
  {
   "cell_type": "code",
   "execution_count": 15,
   "metadata": {},
   "outputs": [],
   "source": [
    "def calc_counts(data, column):\n",
    "    \"\"\"Returns a dict with unique column elements as keys and births as values.\n",
    "    Input must be a list of lists.\n",
    "    \"\"\"\n",
    "    births_per_column = {}\n",
    "    for row in data:\n",
    "        column_num = row[column]\n",
    "        births = row[4]\n",
    "        if column_num in births_per_column:\n",
    "            births_per_column[column_num] += births\n",
    "        else:\n",
    "            births_per_column[column_num] = births\n",
    "    return births_per_column\n",
    "\n",
    "cdc_year_births = calc_counts(cdc_list, 0)\n",
    "cdc_month_births = calc_counts(cdc_list, 1)\n",
    "cdc_dom_births = calc_counts(cdc_list, 2)\n",
    "cdc_dow_births = calc_counts(cdc_list,3)"
   ]
  },
  {
   "cell_type": "code",
   "execution_count": 16,
   "metadata": {},
   "outputs": [
    {
     "data": {
      "text/plain": [
       "({1994: 3952767,\n",
       "  1995: 3899589,\n",
       "  1996: 3891494,\n",
       "  1997: 3880894,\n",
       "  1998: 3941553,\n",
       "  1999: 3959417,\n",
       "  2000: 4058814,\n",
       "  2001: 4025933,\n",
       "  2002: 4021726,\n",
       "  2003: 4089950},\n",
       " {1: 3232517,\n",
       "  2: 3018140,\n",
       "  3: 3322069,\n",
       "  4: 3185314,\n",
       "  5: 3350907,\n",
       "  6: 3296530,\n",
       "  7: 3498783,\n",
       "  8: 3525858,\n",
       "  9: 3439698,\n",
       "  10: 3378814,\n",
       "  11: 3171647,\n",
       "  12: 3301860},\n",
       " {1: 1276557,\n",
       "  2: 1288739,\n",
       "  3: 1304499,\n",
       "  4: 1288154,\n",
       "  5: 1299953,\n",
       "  6: 1304474,\n",
       "  7: 1310459,\n",
       "  8: 1312297,\n",
       "  9: 1303292,\n",
       "  10: 1320764,\n",
       "  11: 1314361,\n",
       "  12: 1318437,\n",
       "  13: 1277684,\n",
       "  14: 1320153,\n",
       "  15: 1319171,\n",
       "  16: 1315192,\n",
       "  17: 1324953,\n",
       "  18: 1326855,\n",
       "  19: 1318727,\n",
       "  20: 1324821,\n",
       "  21: 1322897,\n",
       "  22: 1317381,\n",
       "  23: 1293290,\n",
       "  24: 1288083,\n",
       "  25: 1272116,\n",
       "  26: 1284796,\n",
       "  27: 1294395,\n",
       "  28: 1307685,\n",
       "  29: 1223161,\n",
       "  30: 1202095,\n",
       "  31: 746696},\n",
       " {6: 4562111,\n",
       "  7: 4079723,\n",
       "  1: 5789166,\n",
       "  2: 6446196,\n",
       "  3: 6322855,\n",
       "  4: 6288429,\n",
       "  5: 6233657})"
      ]
     },
     "execution_count": 16,
     "metadata": {},
     "output_type": "execute_result"
    }
   ],
   "source": [
    "cdc_year_births, cdc_month_births, cdc_dom_births, cdc_dow_births"
   ]
  },
  {
   "cell_type": "code",
   "execution_count": 17,
   "metadata": {},
   "outputs": [],
   "source": [
    "def dict_min_max(d):\n",
    "    \"\"\"Returns the min and max values of a dictionary.\n",
    "    Min and max are returned as tuples with key and value at index 0 and 1, respectively.\n",
    "    \"\"\"\n",
    "    min_output = None\n",
    "    max_output = None\n",
    "    for key, value in d.items():\n",
    "        if min_output == None and max_output == None:\n",
    "            min_output = (key, value)\n",
    "            max_output = (key, value)\n",
    "        else:\n",
    "            if value < min_output[1]:\n",
    "                min_output = (key, value)\n",
    "            if value > max_output[1]:\n",
    "                max_output = (key, value)\n",
    "    return min_output, max_output"
   ]
  },
  {
   "cell_type": "code",
   "execution_count": 18,
   "metadata": {},
   "outputs": [
    {
     "data": {
      "text/plain": [
       "((1997, 3880894), (2003, 4089950))"
      ]
     },
     "execution_count": 18,
     "metadata": {},
     "output_type": "execute_result"
    }
   ],
   "source": [
    "dict_min_max(cdc_year_births)"
   ]
  },
  {
   "cell_type": "code",
   "execution_count": 19,
   "metadata": {},
   "outputs": [],
   "source": [
    "def year_changes(births_list, month=None, date_of_month=None, day_of_week=None):\n",
    "    \"\"\"Returns a dict with year (int) as keys and births (int) as values.\n",
    "    \n",
    "    First argument, births_list, must be a list of lists (all int) with the following format:\n",
    "    index 0: year\n",
    "    index 1: month\n",
    "    index 2: date_of_month\n",
    "    index 3: day_of_week\n",
    "    index 4: births\n",
    "    \n",
    "    3 optional arguments constrain the output: month, date_of_month, and day_of_week.\n",
    "    \"\"\"\n",
    "    output_dict = {}\n",
    "    for row in births_list:\n",
    "        row_year = row[0]\n",
    "        row_month = row[1]\n",
    "        row_date = row[2]\n",
    "        row_dow = row[3]\n",
    "        row_births = row[4]\n",
    "        if month == None or month == row_month:\n",
    "            if date_of_month == None or date_of_month == row_date:\n",
    "                if day_of_week == None or day_of_week == row_dow:\n",
    "                    if row_year in output_dict:\n",
    "                        output_dict[row_year] += row_births\n",
    "                    else:\n",
    "                        output_dict[row_year] = row_births\n",
    "    return output_dict\n",
    "            "
   ]
  },
  {
   "cell_type": "code",
   "execution_count": 20,
   "metadata": {},
   "outputs": [
    {
     "data": {
      "text/plain": [
       "{1994: 53097,\n",
       " 1995: 49889,\n",
       " 1996: 48606,\n",
       " 1997: 41694,\n",
       " 1998: 42205,\n",
       " 1999: 42693,\n",
       " 2000: 55208,\n",
       " 2001: 51884,\n",
       " 2002: 44595,\n",
       " 2003: 44310}"
      ]
     },
     "execution_count": 20,
     "metadata": {},
     "output_type": "execute_result"
    }
   ],
   "source": [
    "year_changes(cdc_list, month=1, day_of_week=1)"
   ]
  },
  {
   "cell_type": "code",
   "execution_count": 21,
   "metadata": {},
   "outputs": [
    {
     "name": "stdout",
     "output_type": "stream",
     "text": [
      "Help on function year_changes in module __main__:\n",
      "\n",
      "year_changes(births_list, month=None, date_of_month=None, day_of_week=None)\n",
      "    Returns a dict with year (int) as keys and births (int) as values.\n",
      "    \n",
      "    First argument, births_list, must be a list of lists (all int) with the following format:\n",
      "    index 0: year\n",
      "    index 1: month\n",
      "    index 2: date_of_month\n",
      "    index 3: day_of_week\n",
      "    index 4: births\n",
      "    \n",
      "    3 optional arguments constrain the output: month, date_of_month, and day_of_week.\n",
      "\n"
     ]
    }
   ],
   "source": [
    "help(year_changes)"
   ]
  },
  {
   "cell_type": "code",
   "execution_count": null,
   "metadata": {},
   "outputs": [],
   "source": []
  }
 ],
 "metadata": {
  "anaconda-cloud": {},
  "kernelspec": {
   "display_name": "Python 3",
   "language": "python",
   "name": "python3"
  },
  "language_info": {
   "codemirror_mode": {
    "name": "ipython",
    "version": 3
   },
   "file_extension": ".py",
   "mimetype": "text/x-python",
   "name": "python",
   "nbconvert_exporter": "python",
   "pygments_lexer": "ipython3",
   "version": "3.6.5"
  }
 },
 "nbformat": 4,
 "nbformat_minor": 1
}
