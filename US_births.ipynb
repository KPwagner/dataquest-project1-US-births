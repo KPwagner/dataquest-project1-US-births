{
 "cells": [
  {
   "cell_type": "markdown",
   "metadata": {},
   "source": [
    "# US Births Data Exploration Project\n",
    "----\n",
    "## Opening the Datasets\n",
    "This repo contains two csv files:\n",
    "1. CDC, spanning all days 1994-2003\n",
    "2. SSA, spanning all days 2000-2014\n",
    "\n",
    "Each line of the csv files contains a comma separated string representing a unique date. Below, I read in each file and print the first ten lines. "
   ]
  },
  {
   "cell_type": "code",
   "execution_count": 2,
   "metadata": {},
   "outputs": [
    {
     "name": "stdout",
     "output_type": "stream",
     "text": [
      "['year,month,date_of_month,day_of_week,births', '1994,1,1,6,8096', '1994,1,2,7,7772', '1994,1,3,1,10142', '1994,1,4,2,11248', '1994,1,5,3,11053', '1994,1,6,4,11406', '1994,1,7,5,11251', '1994,1,8,6,8653', '1994,1,9,7,7910']\n"
     ]
    }
   ],
   "source": [
    "f = open(\"US_births_1994-2003_CDC_NCHS.csv\")\n",
    "births_str = f.read()\n",
    "births_data = births_str.split('\\n')\n",
    "print(births_data[:10])\n"
   ]
  },
  {
   "cell_type": "code",
   "execution_count": 4,
   "metadata": {},
   "outputs": [
    {
     "name": "stdout",
     "output_type": "stream",
     "text": [
      "5479\n",
      "[[2000, 1, 1, 6, 9083], [2000, 1, 2, 7, 8006], [2000, 1, 3, 1, 11363], [2000, 1, 4, 2, 13032], [2000, 1, 5, 3, 12558], [2000, 1, 6, 4, 12466], [2000, 1, 7, 5, 12516], [2000, 1, 8, 6, 8934], [2000, 1, 9, 7, 7949], [2000, 1, 10, 1, 11668]]\n"
     ]
    }
   ],
   "source": [
    "ssa_list = read_csv(\"US_births_2000-2014_SSA.csv\")\n",
    "print(len(ssa_list))\n",
    "print(ssa_list[:10])"
   ]
  },
  {
   "cell_type": "markdown",
   "metadata": {},
   "source": [
    "## Converting the csv files to a lists of lists\n",
    "Below, I created a function named \"read_csv\" to that takes a csv file as input and outputs a headerless list of lists."
   ]
  },
  {
   "cell_type": "code",
   "execution_count": 3,
   "metadata": {},
   "outputs": [
    {
     "name": "stdout",
     "output_type": "stream",
     "text": [
      "3652\n",
      "[[2003, 12, 22, 1, 12967], [2003, 12, 23, 2, 12598], [2003, 12, 24, 3, 9096], [2003, 12, 25, 4, 6628], [2003, 12, 26, 5, 10218], [2003, 12, 27, 6, 8646], [2003, 12, 28, 7, 7645], [2003, 12, 29, 1, 12823], [2003, 12, 30, 2, 14438], [2003, 12, 31, 3, 12374]]\n"
     ]
    }
   ],
   "source": [
    "def read_csv(f):\n",
    "    \"\"\"Converts a csv file to a headerless list of lists with int elements.\"\"\"\n",
    "    file = open(f,\"r\")\n",
    "    content = file.read()\n",
    "    split_content = content.split('\\n')\n",
    "    headerless_split_content = split_content[1:]\n",
    "    string_list = headerless_split_content\n",
    "    final_list = []\n",
    "    \n",
    "    for row in string_list:\n",
    "        int_fields = []\n",
    "        string_fields = row.split(',')\n",
    "        for e in string_fields:\n",
    "            int_fields.append(int(e))\n",
    "        final_list.append(int_fields)\n",
    "\n",
    "    return final_list\n",
    "\n",
    "cdc_list = read_csv(\"US_births_1994-2003_CDC_NCHS.csv\")\n",
    "print(len(cdc_list))\n",
    "print(cdc_list[len(cdc_list)-10:])"
   ]
  },
  {
   "cell_type": "markdown",
   "metadata": {},
   "source": [
    "## Combining the CDC and SSA lists\n",
    "This function (combine_lists) combines all dates before 2004 from the CDC data and all dates after 2003 from the SSA data. The resulting output is all unique dates from both list, which span all dates from 1994 to 2014."
   ]
  },
  {
   "cell_type": "code",
   "execution_count": 5,
   "metadata": {},
   "outputs": [],
   "source": [
    "def combine_lists(l_one, l_two):\n",
    "    \"\"\"Combines the cdc and ssa lists and returns the resulting headerless list of list. This function is useful for these specific cdc and ssa lists and not generalized to other lists of lists. \n",
    "    \"\"\"\n",
    "    combined_list = []\n",
    "    for row in l_one:        \n",
    "        combined_list.append(row)\n",
    "    for row in l_two:\n",
    "        row_year = row[0]\n",
    "        if row_year > 2003:\n",
    "            combined_list.append(row)\n",
    "    return combined_list"
   ]
  },
  {
   "cell_type": "code",
   "execution_count": 6,
   "metadata": {},
   "outputs": [
    {
     "name": "stdout",
     "output_type": "stream",
     "text": [
      "7670\n"
     ]
    }
   ],
   "source": [
    "cdc_ssa_list = combine_lists(cdc_list, ssa_list)\n",
    "print(len(cdc_ssa_list))"
   ]
  },
  {
   "cell_type": "markdown",
   "metadata": {},
   "source": [
    "## Explore births of a given date\n",
    "This function (date_births) will return the births for a given date. The examples below show the births around the end of 2003 and beginning of 2004, which is when the dates from the two datasets start to overlap."
   ]
  },
  {
   "cell_type": "code",
   "execution_count": 7,
   "metadata": {},
   "outputs": [],
   "source": [
    "def date_births(data, year, month, date_of_month):\n",
    "    \"\"\"Returns a list with the births (int) for given date in a dataset. Multiple elements in the list imply duplicate dates in the data.\n",
    "    \n",
    "    First argument, data, must be a list of lists (all int) with the following format:\n",
    "    index 0: year\n",
    "    index 1: month\n",
    "    index 2: date_of_month\n",
    "    index 3: day_of_week\n",
    "    index 4: births\n",
    "    \n",
    "    3 required arguments constrain the output: year, month, and date_of_month.\n",
    "    \"\"\"\n",
    "    births_list = []\n",
    "    for row in data:\n",
    "        row_year = row[0]\n",
    "        row_month = row[1]\n",
    "        row_date_of_month = row[2]\n",
    "        if row_year == year:\n",
    "            if row_month == month:\n",
    "                if row_date_of_month == date_of_month:\n",
    "                    births_list.append(row[4])\n",
    "    return births_list"
   ]
  },
  {
   "cell_type": "code",
   "execution_count": 8,
   "metadata": {},
   "outputs": [
    {
     "name": "stdout",
     "output_type": "stream",
     "text": [
      "[12374]\n",
      "[]\n"
     ]
    }
   ],
   "source": [
    "print(date_births(cdc_list, 2003, 12, 31))\n",
    "print(date_births(cdc_list, 2004, 1, 1))"
   ]
  },
  {
   "cell_type": "code",
   "execution_count": 9,
   "metadata": {},
   "outputs": [
    {
     "name": "stdout",
     "output_type": "stream",
     "text": [
      "[12540]\n",
      "[8205]\n"
     ]
    }
   ],
   "source": [
    "print(date_births(ssa_list, 2003, 12, 31))\n",
    "print(date_births(ssa_list, 2004, 1, 1))"
   ]
  },
  {
   "cell_type": "code",
   "execution_count": 10,
   "metadata": {},
   "outputs": [
    {
     "name": "stdout",
     "output_type": "stream",
     "text": [
      "[12374]\n",
      "[8205]\n"
     ]
    }
   ],
   "source": [
    "print(date_births(cdc_ssa_list, 2003, 12, 31))\n",
    "print(date_births(cdc_ssa_list, 2004, 1, 1))"
   ]
  },
  {
   "cell_type": "markdown",
   "metadata": {},
   "source": [
    "## Exploring births by month and day of week\n",
    "The following two functions (month_births and dow_births) collect the number of total births by month and day of week.\n",
    "\n",
    "- There were not significantly more or fewer births in any given month during the years 1994-2014. \n",
    "- About 45% more births occurred on weekdays than Saturday or Sunday. Monday is represented as 1 in the dataset; Tuesday is 2; etc."
   ]
  },
  {
   "cell_type": "code",
   "execution_count": 11,
   "metadata": {},
   "outputs": [],
   "source": [
    "def month_births(births_list):\n",
    "    \"\"\"Returns a dict with month (int) keys and births values.\n",
    "    Input must be a list of lists with month at index 1 and births at index 4.\n",
    "    \"\"\"\n",
    "    births_per_month = {}\n",
    "    for row in births_list:\n",
    "        month = row[1]\n",
    "        births = row[4]\n",
    "        if month in births_per_month:\n",
    "            births_per_month[month] += births\n",
    "        else:\n",
    "            births_per_month[month] = births\n",
    "    \n",
    "    return births_per_month\n",
    "\n",
    "cdc_ssa_month_births = month_births(cdc_ssa_list)"
   ]
  },
  {
   "cell_type": "code",
   "execution_count": 12,
   "metadata": {},
   "outputs": [
    {
     "data": {
      "text/plain": [
       "{1: 6951352,\n",
       " 2: 6487269,\n",
       " 3: 7121938,\n",
       " 4: 6826843,\n",
       " 5: 7150547,\n",
       " 6: 7098069,\n",
       " 7: 7500795,\n",
       " 8: 7595922,\n",
       " 9: 7411299,\n",
       " 10: 7264087,\n",
       " 11: 6854860,\n",
       " 12: 7123246}"
      ]
     },
     "execution_count": 12,
     "metadata": {},
     "output_type": "execute_result"
    }
   ],
   "source": [
    "cdc_ssa_month_births"
   ]
  },
  {
   "cell_type": "code",
   "execution_count": 13,
   "metadata": {},
   "outputs": [],
   "source": [
    "def dow_births(births_list):\n",
    "    \"\"\"Returns a dict with day of week (int) keys and births values.\n",
    "    Input must be a list of lists with day of week at index 3 and births at index 4.\n",
    "    \"\"\"\n",
    "    births_per_day = {}\n",
    "    for row in births_list:\n",
    "        day = row[3]\n",
    "        births = row[4]\n",
    "        if day in births_per_day:\n",
    "            births_per_day[day] += births\n",
    "        else:\n",
    "            births_per_day[day] = births\n",
    "    return births_per_day\n",
    "\n",
    "cdc_ssa_dow_births = dow_births(cdc_ssa_list)"
   ]
  },
  {
   "cell_type": "code",
   "execution_count": 14,
   "metadata": {},
   "outputs": [
    {
     "data": {
      "text/plain": [
       "{6: 9417666,\n",
       " 7: 8340922,\n",
       " 1: 12672592,\n",
       " 2: 14015353,\n",
       " 3: 13775310,\n",
       " 4: 13691289,\n",
       " 5: 13473095}"
      ]
     },
     "execution_count": 14,
     "metadata": {},
     "output_type": "execute_result"
    }
   ],
   "source": [
    "cdc_ssa_dow_births"
   ]
  },
  {
   "cell_type": "markdown",
   "metadata": {},
   "source": [
    "## Generalizing the birth count functions\n",
    "This function (calc_counts) outputs a collection of births based on any of the columns (e.g. births by year, births by month).\n",
    "\n",
    "- There is a slight upward trend in the number of births per year from 1994 to 2014. Though the trend is well under 1% per year, so it may not be significant.\n",
    "- Seemingly no birth date of month preference exists. Note: the lower births on the 31st date of month is due to only half of months in the year having a 31st date."
   ]
  },
  {
   "cell_type": "code",
   "execution_count": 15,
   "metadata": {},
   "outputs": [],
   "source": [
    "def calc_counts(data, column):\n",
    "    \"\"\"Returns a dict with unique column elements as keys and births as values.\n",
    "    Input must be a list of lists.\n",
    "    \"\"\"\n",
    "    births_per_column = {}\n",
    "    for row in data:\n",
    "        column_num = row[column]\n",
    "        births = row[4]\n",
    "        if column_num in births_per_column:\n",
    "            births_per_column[column_num] += births\n",
    "        else:\n",
    "            births_per_column[column_num] = births\n",
    "    return births_per_column\n",
    "\n",
    "cdc_ssa_year_births = calc_counts(cdc_ssa_list, 0)\n",
    "cdc_ssa_month_births = calc_counts(cdc_ssa_list, 1)\n",
    "cdc_ssa_dom_births = calc_counts(cdc_ssa_list, 2)\n",
    "cdc_ssa_dow_births = calc_counts(cdc_ssa_list,3)"
   ]
  },
  {
   "cell_type": "code",
   "execution_count": 16,
   "metadata": {},
   "outputs": [
    {
     "data": {
      "text/plain": [
       "({1994: 3952767,\n",
       "  1995: 3899589,\n",
       "  1996: 3891494,\n",
       "  1997: 3880894,\n",
       "  1998: 3941553,\n",
       "  1999: 3959417,\n",
       "  2000: 4058814,\n",
       "  2001: 4025933,\n",
       "  2002: 4021726,\n",
       "  2003: 4089950,\n",
       "  2004: 4186863,\n",
       "  2005: 4211941,\n",
       "  2006: 4335154,\n",
       "  2007: 4380784,\n",
       "  2008: 4310737,\n",
       "  2009: 4190991,\n",
       "  2010: 4055975,\n",
       "  2011: 4006908,\n",
       "  2012: 4000868,\n",
       "  2013: 3973337,\n",
       "  2014: 4010532},\n",
       " {1: 6951352,\n",
       "  2: 6487269,\n",
       "  3: 7121938,\n",
       "  4: 6826843,\n",
       "  5: 7150547,\n",
       "  6: 7098069,\n",
       "  7: 7500795,\n",
       "  8: 7595922,\n",
       "  9: 7411299,\n",
       "  10: 7264087,\n",
       "  11: 6854860,\n",
       "  12: 7123246},\n",
       " {1: 2755187,\n",
       "  2: 2788038,\n",
       "  3: 2803237,\n",
       "  4: 2756282,\n",
       "  5: 2788696,\n",
       "  6: 2797080,\n",
       "  7: 2826460,\n",
       "  8: 2830509,\n",
       "  9: 2812697,\n",
       "  10: 2835319,\n",
       "  11: 2815717,\n",
       "  12: 2836469,\n",
       "  13: 2747239,\n",
       "  14: 2845418,\n",
       "  15: 2841431,\n",
       "  16: 2833274,\n",
       "  17: 2845098,\n",
       "  18: 2846056,\n",
       "  19: 2830670,\n",
       "  20: 2854849,\n",
       "  21: 2851931,\n",
       "  22: 2828415,\n",
       "  23: 2787922,\n",
       "  24: 2746320,\n",
       "  25: 2710024,\n",
       "  26: 2747304,\n",
       "  27: 2791890,\n",
       "  28: 2817479,\n",
       "  29: 2637999,\n",
       "  30: 2584936,\n",
       "  31: 1592281},\n",
       " {6: 9417666,\n",
       "  7: 8340922,\n",
       "  1: 12672592,\n",
       "  2: 14015353,\n",
       "  3: 13775310,\n",
       "  4: 13691289,\n",
       "  5: 13473095})"
      ]
     },
     "execution_count": 16,
     "metadata": {},
     "output_type": "execute_result"
    }
   ],
   "source": [
    "cdc_ssa_year_births, cdc_ssa_month_births, cdc_ssa_dom_births, cdc_ssa_dow_births"
   ]
  },
  {
   "cell_type": "markdown",
   "metadata": {},
   "source": [
    "## Finding Min and Max Values\n",
    "The following function (dict_min_max) finds the min and max values of a dictionary. In the examples below, the function is used to explore the births by year, month, date of month, and day of week. The findings from these examples are not very insightful:\n",
    "\n",
    "- February was the least popular (and shortest) month for births, and August was the most popular.\n",
    "- The 31st date of month had the lowest births, presumably for the obvious reason.\n",
    "- Sunday was the least popular day for births, and Tuesday was the most popular."
   ]
  },
  {
   "cell_type": "code",
   "execution_count": 17,
   "metadata": {},
   "outputs": [],
   "source": [
    "def dict_min_max(d):\n",
    "    \"\"\"Returns the min and max values of a dictionary.\n",
    "    Min and max are returned as tuples with key and value at index 0 and 1, respectively.\n",
    "    \"\"\"\n",
    "    min_output = None\n",
    "    max_output = None\n",
    "    for key, value in d.items():\n",
    "        if min_output == None and max_output == None:\n",
    "            min_output = (key, value)\n",
    "            max_output = (key, value)\n",
    "        else:\n",
    "            if value < min_output[1]:\n",
    "                min_output = (key, value)\n",
    "            if value > max_output[1]:\n",
    "                max_output = (key, value)\n",
    "    return min_output, max_output"
   ]
  },
  {
   "cell_type": "code",
   "execution_count": 18,
   "metadata": {},
   "outputs": [
    {
     "name": "stdout",
     "output_type": "stream",
     "text": [
      "((1997, 3880894), (2007, 4380784))\n",
      "((2, 6487269), (8, 7595922))\n",
      "((31, 1592281), (20, 2854849))\n",
      "((7, 8340922), (2, 14015353))\n"
     ]
    }
   ],
   "source": [
    "print(dict_min_max(cdc_ssa_year_births))\n",
    "print(dict_min_max(cdc_ssa_month_births))\n",
    "print(dict_min_max(cdc_ssa_dom_births))\n",
    "print(dict_min_max(cdc_ssa_dow_births))"
   ]
  },
  {
   "cell_type": "markdown",
   "metadata": {},
   "source": [
    "## Exploring Year over Year Trends\n",
    "The following function (year_changes) outputs annual births limited by up to three constraints: month, date of month, and day of week. In the example below, I used the function to explore if births on 9/11 declined after 2001. The data shows a slight decline in the average births after 2001 compared to before 2002, however this is inconclusive due to the volatility of births rates for any specific date of the year."
   ]
  },
  {
   "cell_type": "code",
   "execution_count": 19,
   "metadata": {},
   "outputs": [],
   "source": [
    "def year_changes(births_list, month=None, date_of_month=None, day_of_week=None):\n",
    "    \"\"\"Returns a dict with year (int) as keys and births (int) as values.\n",
    "    \n",
    "    First argument, births_list, must be a list of lists (all int) with the following format:\n",
    "    index 0: year\n",
    "    index 1: month\n",
    "    index 2: date_of_month\n",
    "    index 3: day_of_week\n",
    "    index 4: births\n",
    "    \n",
    "    3 optional arguments constrain the output: month, date_of_month, and day_of_week.\n",
    "    \"\"\"\n",
    "    output_dict = {}\n",
    "    for row in births_list:\n",
    "        row_year = row[0]\n",
    "        row_month = row[1]\n",
    "        row_date = row[2]\n",
    "        row_dow = row[3]\n",
    "        row_births = row[4]\n",
    "        if month == None or month == row_month:\n",
    "            if date_of_month == None or date_of_month == row_date:\n",
    "                if day_of_week == None or day_of_week == row_dow:\n",
    "                    if row_year in output_dict:\n",
    "                        output_dict[row_year] += row_births\n",
    "                    else:\n",
    "                        output_dict[row_year] = row_births\n",
    "    return output_dict\n",
    "            "
   ]
  },
  {
   "cell_type": "code",
   "execution_count": 20,
   "metadata": {},
   "outputs": [
    {
     "data": {
      "text/plain": [
       "{1994: 8373,\n",
       " 1995: 11480,\n",
       " 1996: 12420,\n",
       " 1997: 12467,\n",
       " 1998: 12920,\n",
       " 1999: 9634,\n",
       " 2000: 12091,\n",
       " 2001: 13238,\n",
       " 2002: 12371,\n",
       " 2003: 12932,\n",
       " 2004: 9253,\n",
       " 2005: 8041,\n",
       " 2006: 12868,\n",
       " 2007: 14063,\n",
       " 2008: 13391,\n",
       " 2009: 13032,\n",
       " 2010: 8775,\n",
       " 2011: 7501,\n",
       " 2012: 12543,\n",
       " 2013: 12074,\n",
       " 2014: 12104}"
      ]
     },
     "execution_count": 20,
     "metadata": {},
     "output_type": "execute_result"
    }
   ],
   "source": [
    "year_changes(cdc_ssa_list, month=9, date_of_month=11)"
   ]
  },
  {
   "cell_type": "code",
   "execution_count": null,
   "metadata": {},
   "outputs": [],
   "source": []
  }
 ],
 "metadata": {
  "anaconda-cloud": {},
  "kernelspec": {
   "display_name": "Python 3",
   "language": "python",
   "name": "python3"
  },
  "language_info": {
   "codemirror_mode": {
    "name": "ipython",
    "version": 3
   },
   "file_extension": ".py",
   "mimetype": "text/x-python",
   "name": "python",
   "nbconvert_exporter": "python",
   "pygments_lexer": "ipython3",
   "version": "3.6.5"
  }
 },
 "nbformat": 4,
 "nbformat_minor": 1
}
