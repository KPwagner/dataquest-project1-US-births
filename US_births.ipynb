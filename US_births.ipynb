{
 "cells": [
  {
   "cell_type": "code",
   "execution_count": 1,
   "metadata": {},
   "outputs": [
    {
     "name": "stdout",
     "output_type": "stream",
     "text": [
      "['year,month,date_of_month,day_of_week,births', '1994,1,1,6,8096', '1994,1,2,7,7772', '1994,1,3,1,10142', '1994,1,4,2,11248', '1994,1,5,3,11053', '1994,1,6,4,11406', '1994,1,7,5,11251', '1994,1,8,6,8653', '1994,1,9,7,7910']\n"
     ]
    }
   ],
   "source": [
    "f = open(\"US_births_1994-2003_CDC_NCHS.csv\")\n",
    "births_str = f.read()\n",
    "births_data = births_str.split('\\n')\n",
    "print(births_data[:10])\n"
   ]
  },
  {
   "cell_type": "code",
   "execution_count": 2,
   "metadata": {},
   "outputs": [
    {
     "name": "stdout",
     "output_type": "stream",
     "text": [
      "[[1994, 1, 1, 6, 8096], [1994, 1, 2, 7, 7772], [1994, 1, 3, 1, 10142], [1994, 1, 4, 2, 11248], [1994, 1, 5, 3, 11053], [1994, 1, 6, 4, 11406], [1994, 1, 7, 5, 11251], [1994, 1, 8, 6, 8653], [1994, 1, 9, 7, 7910], [1994, 1, 10, 1, 10498]]\n"
     ]
    }
   ],
   "source": [
    "def read_csv(f):\n",
    "    file = open(f,\"r\")\n",
    "    content = file.read()\n",
    "    split_content = content.split('\\n')\n",
    "    headerless_split_content = split_content[1:]\n",
    "    string_list = headerless_split_content\n",
    "    final_list = []\n",
    "    \n",
    "    for row in string_list:\n",
    "        int_fields = []\n",
    "        string_fields = row.split(',')\n",
    "        for e in string_fields:\n",
    "            int_fields.append(int(e))\n",
    "        final_list.append(int_fields)\n",
    "\n",
    "    return final_list\n",
    "\n",
    "cdc_list = read_csv(\"US_births_1994-2003_CDC_NCHS.csv\")\n",
    "print(cdc_list[:10])"
   ]
  },
  {
   "cell_type": "code",
   "execution_count": 3,
   "metadata": {
    "collapsed": true
   },
   "outputs": [],
   "source": [
    "def month_births(births_list):\n",
    "    births_per_month = {}\n",
    "    for row in births_list:\n",
    "        month = row[1]\n",
    "        births = row[4]\n",
    "        if month in births_per_month:\n",
    "            births_per_month[month] += births\n",
    "        else:\n",
    "            births_per_month[month] = births\n",
    "    \n",
    "    return births_per_month\n",
    "\n",
    "cdc_month_births = month_births(cdc_list)"
   ]
  },
  {
   "cell_type": "code",
   "execution_count": 4,
   "metadata": {},
   "outputs": [
    {
     "data": {
      "text/plain": [
       "{1: 3232517,\n",
       " 2: 3018140,\n",
       " 3: 3322069,\n",
       " 4: 3185314,\n",
       " 5: 3350907,\n",
       " 6: 3296530,\n",
       " 7: 3498783,\n",
       " 8: 3525858,\n",
       " 9: 3439698,\n",
       " 10: 3378814,\n",
       " 11: 3171647,\n",
       " 12: 3301860}"
      ]
     },
     "execution_count": 4,
     "metadata": {},
     "output_type": "execute_result"
    }
   ],
   "source": [
    "cdc_month_births"
   ]
  },
  {
   "cell_type": "code",
   "execution_count": 5,
   "metadata": {},
   "outputs": [],
   "source": [
    "def dow_births(births_list):\n",
    "    births_per_day = {}\n",
    "    for row in births_list:\n",
    "        day = row[3]\n",
    "        births = row[4]\n",
    "        if day in births_per_day:\n",
    "            births_per_day[day] += births\n",
    "        else:\n",
    "            births_per_day[day] = births\n",
    "    return births_per_day\n",
    "\n",
    "cdc_day_births = dow_births(cdc_list)"
   ]
  },
  {
   "cell_type": "code",
   "execution_count": 6,
   "metadata": {},
   "outputs": [
    {
     "data": {
      "text/plain": [
       "{1: 5789166,\n",
       " 2: 6446196,\n",
       " 3: 6322855,\n",
       " 4: 6288429,\n",
       " 5: 6233657,\n",
       " 6: 4562111,\n",
       " 7: 4079723}"
      ]
     },
     "execution_count": 6,
     "metadata": {},
     "output_type": "execute_result"
    }
   ],
   "source": [
    "cdc_day_births"
   ]
  },
  {
   "cell_type": "code",
   "execution_count": 7,
   "metadata": {},
   "outputs": [],
   "source": [
    "def calc_counts(data, column):\n",
    "    births_per_column = {}\n",
    "    for row in data:\n",
    "        column_num = row[column]\n",
    "        births = row[4]\n",
    "        if column_num in births_per_column:\n",
    "            births_per_column[column_num] += births\n",
    "        else:\n",
    "            births_per_column[column_num] = births\n",
    "    return births_per_column\n",
    "\n",
    "cdc_year_births = calc_counts(cdc_list, 0)\n",
    "cdc_month_births = calc_counts(cdc_list, 1)\n",
    "cdc_dom_births = calc_counts(cdc_list, 2)\n",
    "cdc_dow_births = calc_counts(cdc_list,3)"
   ]
  },
  {
   "cell_type": "code",
   "execution_count": 8,
   "metadata": {},
   "outputs": [
    {
     "data": {
      "text/plain": [
       "({1994: 3952767,\n",
       "  1995: 3899589,\n",
       "  1996: 3891494,\n",
       "  1997: 3880894,\n",
       "  1998: 3941553,\n",
       "  1999: 3959417,\n",
       "  2000: 4058814,\n",
       "  2001: 4025933,\n",
       "  2002: 4021726,\n",
       "  2003: 4089950},\n",
       " {1: 3232517,\n",
       "  2: 3018140,\n",
       "  3: 3322069,\n",
       "  4: 3185314,\n",
       "  5: 3350907,\n",
       "  6: 3296530,\n",
       "  7: 3498783,\n",
       "  8: 3525858,\n",
       "  9: 3439698,\n",
       "  10: 3378814,\n",
       "  11: 3171647,\n",
       "  12: 3301860},\n",
       " {1: 1276557,\n",
       "  2: 1288739,\n",
       "  3: 1304499,\n",
       "  4: 1288154,\n",
       "  5: 1299953,\n",
       "  6: 1304474,\n",
       "  7: 1310459,\n",
       "  8: 1312297,\n",
       "  9: 1303292,\n",
       "  10: 1320764,\n",
       "  11: 1314361,\n",
       "  12: 1318437,\n",
       "  13: 1277684,\n",
       "  14: 1320153,\n",
       "  15: 1319171,\n",
       "  16: 1315192,\n",
       "  17: 1324953,\n",
       "  18: 1326855,\n",
       "  19: 1318727,\n",
       "  20: 1324821,\n",
       "  21: 1322897,\n",
       "  22: 1317381,\n",
       "  23: 1293290,\n",
       "  24: 1288083,\n",
       "  25: 1272116,\n",
       "  26: 1284796,\n",
       "  27: 1294395,\n",
       "  28: 1307685,\n",
       "  29: 1223161,\n",
       "  30: 1202095,\n",
       "  31: 746696},\n",
       " {1: 5789166,\n",
       "  2: 6446196,\n",
       "  3: 6322855,\n",
       "  4: 6288429,\n",
       "  5: 6233657,\n",
       "  6: 4562111,\n",
       "  7: 4079723})"
      ]
     },
     "execution_count": 8,
     "metadata": {},
     "output_type": "execute_result"
    }
   ],
   "source": [
    "cdc_year_births, cdc_month_births, cdc_dom_births, cdc_dow_births"
   ]
  },
  {
   "cell_type": "code",
   "execution_count": null,
   "metadata": {
    "collapsed": true
   },
   "outputs": [],
   "source": []
  }
 ],
 "metadata": {
  "anaconda-cloud": {},
  "kernelspec": {
   "display_name": "Python 3",
   "language": "python",
   "name": "python3"
  },
  "language_info": {
   "codemirror_mode": {
    "name": "ipython",
    "version": 3
   },
   "file_extension": ".py",
   "mimetype": "text/x-python",
   "name": "python",
   "nbconvert_exporter": "python",
   "pygments_lexer": "ipython3",
   "version": "3.6.5"
  }
 },
 "nbformat": 4,
 "nbformat_minor": 1
}
